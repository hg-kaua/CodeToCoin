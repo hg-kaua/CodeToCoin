{
 "cells": [
  {
   "cell_type": "markdown",
   "metadata": {},
   "source": [
    "Working with numerical data\n",
    "\n",
    "Let's say we want to use climate data like the temperature, rainfall and humidity in a region to determine if the region is well suited for growing apples. a really simple approach for doing this would be to formulate the relationship between the annual yield of apples (tons per hectare) and the climatic conditions like the average temperature (in degrees Farenheit), rainfall (in millimeters) & average relative humidity (in percentage) as a linear equation\n",
    "\n",
    "Yield_of_apples = w1 * temperature + w2 * rainfall + w3"
   ]
  },
  {
   "cell_type": "code",
   "execution_count": 1,
   "metadata": {},
   "outputs": [],
   "source": [
    "kanto = [73, 67, 43]\n",
    "johto = [91, 88, 64]\n",
    "hownn = [87, 134, 58]\n",
    "sinnoh = [102, 43, 37]\n",
    "unova = [69, 96, 70]\n",
    "\n",
    "# the tree numbers in each vector represent the temperature, rainfall , humidity respectively\n",
    "w1 = 0.3\n",
    "w2 = 0.2\n",
    "w3 = 0.5\n",
    "\n",
    "weights = [w1, w2, w3]\n",
    "\n",
    "# we can now write a function crop_yield to calculate the yield of apples given the climate data and the respective weights\n",
    "\n",
    "def crop_yield(region, weights):\n",
    "    result = 0\n",
    "    for x,y in zip(region, weights):\n",
    "        result += x*y\n",
    "    return result\n",
    "\n"
   ]
  },
  {
   "cell_type": "code",
   "execution_count": 2,
   "metadata": {},
   "outputs": [
    {
     "name": "stdout",
     "output_type": "stream",
     "text": [
      "56.8\n",
      "76.9\n",
      "81.9\n",
      "57.699999999999996\n",
      "74.9\n"
     ]
    }
   ],
   "source": [
    "print(crop_yield(kanto, weights))\n",
    "print(crop_yield(johto, weights))\n",
    "print(crop_yield(hownn, weights))\n",
    "print(crop_yield(sinnoh, weights))\n",
    "print(crop_yield(unova, weights))"
   ]
  },
  {
   "cell_type": "markdown",
   "metadata": {},
   "source": [
    "Going from python list to Numpy arrays\n",
    "\n",
    "the numpy library provides a built-in function to perform the dot product of two vectors. however, the lists must first be converted to numpy arrays before we can  perform the operation. To begin, let's import the numpy module. It is common practice to import numpy with the alias np."
   ]
  },
  {
   "cell_type": "code",
   "execution_count": 3,
   "metadata": {},
   "outputs": [],
   "source": [
    "import numpy as np"
   ]
  },
  {
   "cell_type": "code",
   "execution_count": 4,
   "metadata": {},
   "outputs": [
    {
     "data": {
      "text/plain": [
       "numpy.ndarray"
      ]
     },
     "execution_count": 4,
     "metadata": {},
     "output_type": "execute_result"
    }
   ],
   "source": [
    "# numpy arrays can be created using the (np.array) function\n",
    "\n",
    "kanto = np.array([73, 67, 43])\n",
    "\n",
    "weights = np.array([w1, w2, w3])\n",
    "\n",
    "type(kanto)\n",
    "type(weights)"
   ]
  },
  {
   "cell_type": "code",
   "execution_count": 5,
   "metadata": {},
   "outputs": [
    {
     "data": {
      "text/plain": [
       "56.8"
      ]
     },
     "execution_count": 5,
     "metadata": {},
     "output_type": "execute_result"
    }
   ],
   "source": [
    "# operation on Numpy arrays\n",
    "# this line of code does exactly the same thing as copy_yield function\n",
    "np.dot(kanto, weights)\n"
   ]
  },
  {
   "cell_type": "markdown",
   "metadata": {},
   "source": [
    "Multi-dimensional Numpy arrays\n",
    "\n",
    "We can now go one step further, and represent the climate data for all the regions together using a single 2-dimensional Numpy array"
   ]
  },
  {
   "cell_type": "code",
   "execution_count": 6,
   "metadata": {},
   "outputs": [
    {
     "data": {
      "text/plain": [
       "array([[ 73,  67,  43],\n",
       "       [ 91,  88,  64],\n",
       "       [ 87, 134,  58],\n",
       "       [102,  43,  37],\n",
       "       [ 69,  96,  70]])"
      ]
     },
     "execution_count": 6,
     "metadata": {},
     "output_type": "execute_result"
    }
   ],
   "source": [
    "climate_data = np.array([[73, 67, 43],\n",
    "                         [91, 88, 64],\n",
    "                         [87, 134, 58],\n",
    "                         [102, 43, 37],\n",
    "                         [69, 96, 70]])\n",
    "\n",
    "climate_data"
   ]
  },
  {
   "cell_type": "code",
   "execution_count": 7,
   "metadata": {},
   "outputs": [
    {
     "name": "stdout",
     "output_type": "stream",
     "text": [
      "(5, 3)\n",
      "(3,)\n"
     ]
    }
   ],
   "source": [
    "# numpy arrays can have any numbers of dimensions, and different lenghts along each dimension.\n",
    "# we can inspect the lenght along each dimension using the .shape property of an array\n",
    "\n",
    "# 2D array (matrix)\n",
    "print(climate_data.shape)\n",
    "\n",
    "# 1D array (matrix)\n",
    "print(weights.shape)"
   ]
  },
  {
   "cell_type": "code",
   "execution_count": 8,
   "metadata": {},
   "outputs": [
    {
     "name": "stdout",
     "output_type": "stream",
     "text": [
      "[56.8 76.9 81.9 57.7 74.9]\n",
      "[56.8 76.9 81.9 57.7 74.9]\n"
     ]
    }
   ],
   "source": [
    "# we can use the np.matmul function from numpy, or simply use the @ operator to perform matrix multiplication\n",
    "\n",
    "\n",
    "matmul_function = np.matmul(climate_data, weights)\n",
    "\n",
    "print(matmul_function)\n",
    "\n",
    "operator = climate_data @ weights\n",
    "\n",
    "print(operator)"
   ]
  },
  {
   "cell_type": "markdown",
   "metadata": {},
   "source": [
    "Arithmetic operations and broadcasting\n",
    "\n",
    "Numpy arrays support arithmetic operators like +, -, * etc. You can perform an arithmetic operation with a sigle number (also called scalar), or with another array of the same shape. This makes it really easy to write mathemtical expressions with multi-dimensional arrays"
   ]
  },
  {
   "cell_type": "code",
   "execution_count": 15,
   "metadata": {},
   "outputs": [
    {
     "name": "stdout",
     "output_type": "stream",
     "text": [
      "Operation scalar example: \n",
      "[[ 4  5  6  7]\n",
      " [ 8  9 10 11]\n",
      " [12  4  5  6]]\n",
      "Operation with another array of the same shape: \n",
      "[[-10 -10 -10 -10]\n",
      " [-10 -10 -10 -10]\n",
      " [-10 -10 -10 -10]]\n",
      "(3, 4)\n",
      "(4,)\n",
      "Broadcasting: \n",
      "[[ 5  7  9 11]\n",
      " [ 9 11 13 15]\n",
      " [13  6  8 10]]\n"
     ]
    }
   ],
   "source": [
    "arr2 = np.array([[1, 2, 3, 4],\n",
    "                [5, 6, 7, 8],\n",
    "                [9, 1, 2, 3]])\n",
    "\n",
    "arr3 = np.array([[11, 12, 13, 14],\n",
    "                [15, 16, 17, 18],\n",
    "                [19, 11, 12, 13]])\n",
    "\n",
    "\n",
    "# adding a scalar\n",
    "print(f'''Operation scalar example: \n",
    "{arr2 + 3}''')\n",
    "\n",
    "# element-wise subtraction\n",
    "print(f'''Operation with another array of the same shape: \n",
    "{arr2 - arr3}''')\n",
    "\n",
    "# numpy arrays also support broadcasting, which allows arthmetic operations \n",
    "# between two arrays having a different number of dimensios, but compatible \n",
    "# shapes\n",
    "\n",
    "print(arr2.shape)\n",
    "\n",
    "arr4 = np.array([4, 5, 6, 7])\n",
    "print(arr4.shape)\n",
    "\n",
    "print(f'''Broadcasting: \n",
    "{arr2 + arr4}''')\n",
    "\n",
    "# this works because numpy performs the replication without actually creating \n",
    "# 3 copies of the smaller dimension array.\n",
    "# arr4 = np.array([[4, 5, 6, 7],\n",
    "#                  [4, 5, 6, 7],\n",
    "#                  [4, 5, 6, 7],])"
   ]
  }
 ],
 "metadata": {
  "kernelspec": {
   "display_name": "Python 3.11.4 64-bit",
   "language": "python",
   "name": "python3"
  },
  "language_info": {
   "codemirror_mode": {
    "name": "ipython",
    "version": 3
   },
   "file_extension": ".py",
   "mimetype": "text/x-python",
   "name": "python",
   "nbconvert_exporter": "python",
   "pygments_lexer": "ipython3",
   "version": "3.11.4"
  },
  "orig_nbformat": 4,
  "vscode": {
   "interpreter": {
    "hash": "aee8b7b246df8f9039afb4144a1f6fd8d2ca17a180786b69acc140d282b71a49"
   }
  }
 },
 "nbformat": 4,
 "nbformat_minor": 2
}
