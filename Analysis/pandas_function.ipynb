{
 "cells": [
  {
   "cell_type": "code",
   "execution_count": 1,
   "metadata": {},
   "outputs": [],
   "source": [
    "import pandas as pd"
   ]
  },
  {
   "cell_type": "code",
   "execution_count": 13,
   "metadata": {},
   "outputs": [
    {
     "data": {
      "text/html": [
       "<div>\n",
       "<style scoped>\n",
       "    .dataframe tbody tr th:only-of-type {\n",
       "        vertical-align: middle;\n",
       "    }\n",
       "\n",
       "    .dataframe tbody tr th {\n",
       "        vertical-align: top;\n",
       "    }\n",
       "\n",
       "    .dataframe thead th {\n",
       "        text-align: right;\n",
       "    }\n",
       "</style>\n",
       "<table border=\"1\" class=\"dataframe\">\n",
       "  <thead>\n",
       "    <tr style=\"text-align: right;\">\n",
       "      <th></th>\n",
       "      <th>Volume</th>\n",
       "      <th>Price</th>\n",
       "      <th>Companies</th>\n",
       "    </tr>\n",
       "  </thead>\n",
       "  <tbody>\n",
       "    <tr>\n",
       "      <th>2019</th>\n",
       "      <td>1000</td>\n",
       "      <td>20</td>\n",
       "      <td>wege</td>\n",
       "    </tr>\n",
       "    <tr>\n",
       "      <th>2020</th>\n",
       "      <td>30000</td>\n",
       "      <td>30</td>\n",
       "      <td>vale</td>\n",
       "    </tr>\n",
       "    <tr>\n",
       "      <th>2021</th>\n",
       "      <td>40100</td>\n",
       "      <td>50</td>\n",
       "      <td>petrobras</td>\n",
       "    </tr>\n",
       "  </tbody>\n",
       "</table>\n",
       "</div>"
      ],
      "text/plain": [
       "      Volume  Price  Companies\n",
       "2019    1000     20       wege\n",
       "2020   30000     30       vale\n",
       "2021   40100     50  petrobras"
      ]
     },
     "metadata": {},
     "output_type": "display_data"
    }
   ],
   "source": [
    "data_dictionary = {\n",
    "    'Companies': ['wege', 'vale', 'petrobras'],\n",
    "    'Price': [20, 30, 50],\n",
    "    'Volume': [1000, 30000, 40100]\n",
    "}\n",
    "\n",
    "datas_companies = pd.DataFrame(data_dictionary, index=[2019, 2020, 2021], columns= ['Volume', 'Price', 'Companies'])\n",
    "\n",
    "display(datas_companies)"
   ]
  },
  {
   "cell_type": "code",
   "execution_count": 19,
   "metadata": {},
   "outputs": [
    {
     "name": "stdout",
     "output_type": "stream",
     "text": [
      " DataFrame with no index: \n",
      "   Companies  Price  Volume\n",
      "0       wege     20    1000\n",
      "1       vale     30   30000\n",
      "2  petrobras     50   40100\n",
      "\n",
      " DataFrame with index:\n",
      "           Price  Volume\n",
      "Companies               \n",
      "wege          20    1000\n",
      "vale          30   30000\n",
      "petrobras     50   40100      \n",
      "\n"
     ]
    }
   ],
   "source": [
    "df_without_index = pd.DataFrame(data_dictionary)\n",
    "\n",
    "print(f''' DataFrame with no index: \n",
    "{df_without_index}\n",
    "''')\n",
    "\n",
    "df_with_index = df_without_index.set_index('Companies')\n",
    "print(f''' DataFrame with index:\n",
    "{df_with_index}      \n",
    "''')"
   ]
  },
  {
   "cell_type": "code",
   "execution_count": 28,
   "metadata": {},
   "outputs": [
    {
     "name": "stdout",
     "output_type": "stream",
     "text": [
      "\n",
      "Dataframe after modifications      \n",
      "                 Volume  Number    Segment\n",
      "Companies Price                           \n",
      "wege      20       1000       1    Mineral\n",
      "vale      30      30000       2  Eletrical\n",
      "petrobras 50      40100       3        Oil\n",
      "\n",
      "\n",
      "Dataframe Before modifications      \n",
      "           Market_price  Volume  Number    Segment\n",
      "Companies                                         \n",
      "wege                 20    1000       1    Mineral\n",
      "vale                 30   30000       2  Eletrical\n",
      "petrobras            50   40100       3        Oil\n",
      "\n"
     ]
    }
   ],
   "source": [
    "data_dictionary['Number'] = [1, 2, 3]\n",
    "data_dictionary['Segment'] = ['Mineral', 'Eletrical', 'Oil']\n",
    "\n",
    "new_df = pd.DataFrame(data_dictionary)\n",
    "new_df = new_df.set_index(['Companies', 'Price'])\n",
    "\n",
    "print(f'''\n",
    "Dataframe after modifications      \n",
    "{new_df}\n",
    "''')\n",
    "\n",
    "new_df = new_df.reset_index(level='Price', names=['Stocks', 'Market_price'])\n",
    "\n",
    "print(f'''\n",
    "Dataframe Before modifications      \n",
    "{new_df}\n",
    "''')\n"
   ]
  },
  {
   "cell_type": "code",
   "execution_count": 33,
   "metadata": {},
   "outputs": [
    {
     "name": "stderr",
     "output_type": "stream",
     "text": [
      "/var/folders/h3/hg0brw_s1mb4rb20y5dzl_sw0000gn/T/ipykernel_28073/4124092451.py:5: FutureWarning: 'M' is deprecated and will be removed in a future version, please use 'ME' instead.\n",
      "  datas_weg_monthly = pd.date_range(start='1/1/2000', end='31/12/2000', freq='M')\n"
     ]
    },
    {
     "data": {
      "text/html": [
       "<div>\n",
       "<style scoped>\n",
       "    .dataframe tbody tr th:only-of-type {\n",
       "        vertical-align: middle;\n",
       "    }\n",
       "\n",
       "    .dataframe tbody tr th {\n",
       "        vertical-align: top;\n",
       "    }\n",
       "\n",
       "    .dataframe thead th {\n",
       "        text-align: right;\n",
       "    }\n",
       "</style>\n",
       "<table border=\"1\" class=\"dataframe\">\n",
       "  <thead>\n",
       "    <tr style=\"text-align: right;\">\n",
       "      <th></th>\n",
       "      <th>Market_price</th>\n",
       "    </tr>\n",
       "  </thead>\n",
       "  <tbody>\n",
       "    <tr>\n",
       "      <th>2000-01-31</th>\n",
       "      <td>20.20</td>\n",
       "    </tr>\n",
       "    <tr>\n",
       "      <th>2000-02-29</th>\n",
       "      <td>21.20</td>\n",
       "    </tr>\n",
       "    <tr>\n",
       "      <th>2000-03-31</th>\n",
       "      <td>23.10</td>\n",
       "    </tr>\n",
       "    <tr>\n",
       "      <th>2000-04-30</th>\n",
       "      <td>30.20</td>\n",
       "    </tr>\n",
       "    <tr>\n",
       "      <th>2000-05-31</th>\n",
       "      <td>10.23</td>\n",
       "    </tr>\n",
       "    <tr>\n",
       "      <th>2000-06-30</th>\n",
       "      <td>14.20</td>\n",
       "    </tr>\n",
       "    <tr>\n",
       "      <th>2000-07-31</th>\n",
       "      <td>15.21</td>\n",
       "    </tr>\n",
       "    <tr>\n",
       "      <th>2000-08-31</th>\n",
       "      <td>12.40</td>\n",
       "    </tr>\n",
       "    <tr>\n",
       "      <th>2000-09-30</th>\n",
       "      <td>16.10</td>\n",
       "    </tr>\n",
       "    <tr>\n",
       "      <th>2000-10-31</th>\n",
       "      <td>21.20</td>\n",
       "    </tr>\n",
       "    <tr>\n",
       "      <th>2000-11-30</th>\n",
       "      <td>22.40</td>\n",
       "    </tr>\n",
       "    <tr>\n",
       "      <th>2000-12-31</th>\n",
       "      <td>28.89</td>\n",
       "    </tr>\n",
       "  </tbody>\n",
       "</table>\n",
       "</div>"
      ],
      "text/plain": [
       "            Market_price\n",
       "2000-01-31         20.20\n",
       "2000-02-29         21.20\n",
       "2000-03-31         23.10\n",
       "2000-04-30         30.20\n",
       "2000-05-31         10.23\n",
       "2000-06-30         14.20\n",
       "2000-07-31         15.21\n",
       "2000-08-31         12.40\n",
       "2000-09-30         16.10\n",
       "2000-10-31         21.20\n",
       "2000-11-30         22.40\n",
       "2000-12-31         28.89"
      ]
     },
     "execution_count": 33,
     "metadata": {},
     "output_type": "execute_result"
    }
   ],
   "source": [
    "data_weg = {\n",
    "    'Market_price': [20.20, 21.20, 23.10, 30.20, 10.23, 14.20, 15.21, 12.40, 16.10, 21.20, 22.40, 28.89]\n",
    "}\n",
    "\n",
    "datas_weg_monthly = pd.date_range(start='1/1/2000', end='31/12/2000', freq='M')\n",
    "\n",
    "price_weg = pd.DataFrame(data_weg, index=datas_weg_monthly)\n",
    "\n",
    "price_weg"
   ]
  },
  {
   "cell_type": "markdown",
   "metadata": {},
   "source": []
  },
  {
   "cell_type": "code",
   "execution_count": null,
   "metadata": {},
   "outputs": [],
   "source": []
  }
 ],
 "metadata": {
  "kernelspec": {
   "display_name": "Python 3.11.4 64-bit",
   "language": "python",
   "name": "python3"
  },
  "language_info": {
   "codemirror_mode": {
    "name": "ipython",
    "version": 3
   },
   "file_extension": ".py",
   "mimetype": "text/x-python",
   "name": "python",
   "nbconvert_exporter": "python",
   "pygments_lexer": "ipython3",
   "version": "3.11.4"
  },
  "orig_nbformat": 4,
  "vscode": {
   "interpreter": {
    "hash": "aee8b7b246df8f9039afb4144a1f6fd8d2ca17a180786b69acc140d282b71a49"
   }
  }
 },
 "nbformat": 4,
 "nbformat_minor": 2
}
